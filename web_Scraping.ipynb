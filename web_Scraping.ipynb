{
  "nbformat": 4,
  "nbformat_minor": 0,
  "metadata": {
    "colab": {
      "name": "web_Scraping.ipynb",
      "provenance": [],
      "collapsed_sections": [],
      "include_colab_link": true
    },
    "kernelspec": {
      "display_name": "Python 3",
      "name": "python3",
      "language": "python"
    },
    "language_info": {
      "name": "python",
      "version": "3.8.5-final"
    }
  },
  "cells": [
    {
      "cell_type": "markdown",
      "metadata": {
        "id": "view-in-github",
        "colab_type": "text"
      },
      "source": [
        "<a href=\"https://colab.research.google.com/github/Open-Sourced-Olaf/DocVerifier/blob/main/web_Scraping.ipynb\" target=\"_parent\"><img src=\"https://colab.research.google.com/assets/colab-badge.svg\" alt=\"Open In Colab\"/></a>"
      ]
    },
    {
      "cell_type": "code",
      "execution_count": 7,
      "metadata": {},
      "outputs": [
        {
          "output_type": "stream",
          "name": "stdout",
          "text": [
            "Collecting pandas\n",
            "  Using cached pandas-1.2.3-cp38-cp38-manylinux1_x86_64.whl (9.7 MB)\n",
            "Requirement already satisfied: pytz>=2017.3 in /usr/lib/python3/dist-packages (from pandas) (2019.3)\n",
            "Requirement already satisfied: python-dateutil>=2.7.3 in /usr/local/lib/python3.8/dist-packages (from pandas) (2.8.1)\n",
            "Requirement already satisfied: numpy>=1.16.5 in /usr/local/lib/python3.8/dist-packages (from pandas) (1.20.1)\n",
            "Requirement already satisfied: six>=1.5 in /usr/lib/python3/dist-packages (from python-dateutil>=2.7.3->pandas) (1.14.0)\n",
            "Installing collected packages: pandas\n",
            "Successfully installed pandas-1.2.3\n",
            "Note: you may need to restart the kernel to use updated packages.\n"
          ]
        }
      ],
      "source": [
        "pip install pandas\n"
      ]
    },
    {
      "cell_type": "code",
      "metadata": {
        "id": "jXys_UZy9YPc"
      },
      "source": [
        "from bs4 import BeautifulSoup as bs\n",
        "import pandas as pd\n",
        "pd.set_option('display.max_colwidth', 500)\n",
        "import time\n",
        "import requests\n",
        "import random"
      ],
      "execution_count": 8,
      "outputs": []
    },
    {
      "cell_type": "code",
      "metadata": {
        "colab": {
          "base_uri": "https://localhost:8080/"
        },
        "id": "BDj5NxqH-K1j",
        "outputId": "72ee4dc2-dac0-47e6-8157-1ffaf169203c"
      },
      "source": [
        "\n",
        "# Accessing the Website with requests\n",
        "page = requests.get(\"https://www.facebook.com/privacy/explanation\")\n",
        "\n",
        "page"
      ],
      "execution_count": 1,
      "outputs": [
        {
          "output_type": "error",
          "ename": "NameError",
          "evalue": "name 'requests' is not defined",
          "traceback": [
            "\u001b[0;31m---------------------------------------------------------------------------\u001b[0m",
            "\u001b[0;31mNameError\u001b[0m                                 Traceback (most recent call last)",
            "\u001b[0;32m<ipython-input-1-761ecedf1a27>\u001b[0m in \u001b[0;36m<module>\u001b[0;34m\u001b[0m\n\u001b[1;32m      1\u001b[0m \u001b[0;31m# Accessing the Website with requests\u001b[0m\u001b[0;34m\u001b[0m\u001b[0;34m\u001b[0m\u001b[0;34m\u001b[0m\u001b[0m\n\u001b[0;32m----> 2\u001b[0;31m \u001b[0mpage\u001b[0m \u001b[0;34m=\u001b[0m \u001b[0mrequests\u001b[0m\u001b[0;34m.\u001b[0m\u001b[0mget\u001b[0m\u001b[0;34m(\u001b[0m\u001b[0;34m\"https://www.facebook.com/privacy/explanation\"\u001b[0m\u001b[0;34m)\u001b[0m\u001b[0;34m\u001b[0m\u001b[0;34m\u001b[0m\u001b[0m\n\u001b[0m\u001b[1;32m      3\u001b[0m \u001b[0;34m\u001b[0m\u001b[0m\n\u001b[1;32m      4\u001b[0m \u001b[0mpage\u001b[0m\u001b[0;34m\u001b[0m\u001b[0;34m\u001b[0m\u001b[0m\n",
            "\u001b[0;31mNameError\u001b[0m: name 'requests' is not defined"
          ]
        }
      ]
    },
    {
      "cell_type": "code",
      "metadata": {
        "id": "TE_iyU2R-Sm5"
      },
      "source": [
        "# Getting the webpage's content in pure html\n",
        "soup = bs(page.content)\n",
        "\n",
        "soup"
      ],
      "execution_count": null,
      "outputs": []
    },
    {
      "cell_type": "code",
      "metadata": {
        "id": "E5-9MflTAYjV"
      },
      "source": [
        "from bs4 import BeautifulSoup\n",
        "import requests\n",
        "\n",
        "url = \"https://docs.github.com/en/github/site-policy/github-terms-of-service\"\n",
        "\n",
        "source = requests.get(url).text\n",
        "soup = BeautifulSoup(source, 'lxml')\n",
        "soup\n",
        "\n",
        "#policies= [i.text for i in soup.find_all(class_='fcb')]\n",
        "policies=soup.find_all('div')\n",
        "for i in policies:\n",
        "    print(i.text)\n",
        "    \n",
        "\n",
        "\n"
      ],
      "execution_count": null,
      "outputs": []
    },
    {
      "cell_type": "code",
      "metadata": {
        "id": "YoloifmLhCWJ"
      },
      "source": [
        "from selenium import webdriver\n",
        "\n",
        "options = webdriver.ChromeOptions()\n",
        "options.add_argument('--ignore-certificate-errors')\n",
        "options.add_argument('--incognito')\n",
        "options.add_argument('--headless')\n",
        "driver = webdriver.Chrome(\"/usr/lib/chromium-browser/chromedriver\", chrome_options=options)\n"
      ],
      "execution_count": null,
      "outputs": []
    },
    {
      "cell_type": "code",
      "metadata": {
        "colab": {
          "background_save": true
        },
        "id": "33ZUTinomq7j"
      },
      "source": [
        "!pip install webdriver-manager"
      ],
      "execution_count": null,
      "outputs": []
    },
    {
      "cell_type": "code",
      "metadata": {
        "id": "EDLqxKSgjaWF"
      },
      "source": [
        "\n",
        "import time\n",
        "\n",
        "driver.get(\"https://www.tripadvisor.com/Airline_Review-d8729157-Reviews-Spirit-Airlines#REVIEWS\")\n",
        "more_buttons = driver.find_elements_by_class_name(\"moreLink\")\n",
        "for x in range(len(more_buttons)):\n",
        "  if more_buttons[x].is_displayed():\n",
        "      driver.execute_script(\"arguments[0].click();\", more_buttons[x])\n",
        "      time.sleep(1)\n",
        "page_source = driver.page_source"
      ],
      "execution_count": null,
      "outputs": []
    },
    {
      "cell_type": "code",
      "metadata": {
        "id": "HBGD0mSAij-6"
      },
      "source": [
        "!pip install selenium"
      ],
      "execution_count": null,
      "outputs": []
    },
    {
      "cell_type": "code",
      "metadata": {
        "id": "e9b5zhoSbwpD"
      },
      "source": [
        "from bs4 import BeautifulSoup\n",
        "import requests\n",
        "\n",
        "url = \"https://www.github.com\"\n",
        "\n",
        "source = requests.get(url).text\n",
        "soup = BeautifulSoup(source, 'lxml')\n",
        "\n",
        "a_tag = soup.find_all(\"a\") #Gives you the list of all the a tags\n",
        "for i in a_tag:\n",
        "    if i.text in [\"Privacy\", \"Terms\",\"conditions\",\"Policy\"]:\n",
        "        url = i[\"href\"]\n",
        "        print(url)\n"
      ],
      "execution_count": null,
      "outputs": []
    }
  ]
}