{
  "nbformat": 4,
  "nbformat_minor": 0,
  "metadata": {
    "colab": {
      "name": "privacy_policy_predictor.ipynb",
      "provenance": [],
      "include_colab_link": true
    },
    "kernelspec": {
      "name": "python3",
      "display_name": "Python 3"
    },
    "language_info": {
      "name": "python"
    }
  },
  "cells": [
    {
      "cell_type": "markdown",
      "metadata": {
        "id": "view-in-github",
        "colab_type": "text"
      },
      "source": [
        "<a href=\"https://colab.research.google.com/github/Open-Sourced-Olaf/DocVerifier/blob/main/privacy_policy_predictor.ipynb\" target=\"_parent\"><img src=\"https://colab.research.google.com/assets/colab-badge.svg\" alt=\"Open In Colab\"/></a>"
      ]
    },
    {
      "cell_type": "code",
      "metadata": {
        "id": "evr_f5F78lcx"
      },
      "source": [
        "import random"
      ],
      "execution_count": null,
      "outputs": []
    },
    {
      "cell_type": "code",
      "metadata": {
        "id": "ZSOYf-YL4qmW"
      },
      "source": [
        "good_privacy = []\n",
        "with open(\"good_privacy.txt\", \"r\") as f:\n",
        "  for line in f:\n",
        "    good_privacy.append(line.rstrip())\n",
        "bad_privacy_raw = []\n",
        "with open(\"bad_privacy.txt\", \"r\") as f:\n",
        "  for line in f:\n",
        "    bad_privacy_raw.append(line.rstrip())"
      ],
      "execution_count": null,
      "outputs": []
    },
    {
      "cell_type": "code",
      "metadata": {
        "id": "em6cqN9e67qu"
      },
      "source": [
        "bad_privacy = bad_privacy_raw[: -6 or None]"
      ],
      "execution_count": null,
      "outputs": []
    },
    {
      "cell_type": "code",
      "metadata": {
        "id": "DqDmi8-X6fmz"
      },
      "source": [
        "from sklearn.model_selection import train_test_split\n",
        "# splitting the model into X and Y training and test data\n",
        "# X is good, Y is bad\n",
        "# we will represent X with 0 and Y with 1\n",
        "X_train, X_test, y_train, y_test = train_test_split(good_privacy, bad_privacy, test_size=0.2, random_state=42)"
      ],
      "execution_count": null,
      "outputs": []
    },
    {
      "cell_type": "code",
      "metadata": {
        "id": "MOvc6unZ2HaQ"
      },
      "source": [
        "combined_train = []\n",
        "for item in X_train:\n",
        "  combined_train.append([item, 0])\n",
        "for item in y_train:\n",
        "  combined_train.append([item, 1])\n",
        "random.shuffle(combined_train)\n",
        "\n",
        "training_data = []\n",
        "training_target = []\n",
        "for item in combined_train:\n",
        "  training_data.append(item[0])\n",
        "  training_target.append(item[1])"
      ],
      "execution_count": null,
      "outputs": []
    },
    {
      "cell_type": "code",
      "metadata": {
        "id": "L18jxvqk1Hm6"
      },
      "source": [
        "from sklearn.pipeline import Pipeline\n",
        "from sklearn.feature_extraction.text import CountVectorizer, TfidfTransformer\n",
        "from sklearn.naive_bayes import MultinomialNB\n",
        "\n",
        "text_clf = Pipeline([('vect', CountVectorizer()),\n",
        "                      ('tfidf', TfidfTransformer()),\n",
        "                      ('clf', MultinomialNB()),\n",
        " ])\n",
        "text_clf = text_clf.fit(training_data, training_target)"
      ],
      "execution_count": null,
      "outputs": []
    },
    {
      "cell_type": "code",
      "metadata": {
        "id": "iutYyQ609XFP"
      },
      "source": [
        "combined_test = []\n",
        "for item in X_test:\n",
        "  combined_test.append([item, 0])\n",
        "for item in y_test:\n",
        "  combined_test.append([item, 1])\n",
        "random.shuffle(combined_test)\n",
        "\n",
        "test_data = []\n",
        "test_target = []\n",
        "for item in combined_test:\n",
        "  test_data.append(item[0])\n",
        "  test_target.append(item[1])"
      ],
      "execution_count": null,
      "outputs": []
    },
    {
      "cell_type": "code",
      "metadata": {
        "colab": {
          "base_uri": "https://localhost:8080/"
        },
        "id": "WuTgG7td2Ukv",
        "outputId": "d6471dc5-ba08-4f3e-944a-ddbfadc76519"
      },
      "source": [
        "import numpy as np\n",
        "predicted = text_clf.predict(test_data)\n",
        "np.mean(predicted == test_target)"
      ],
      "execution_count": null,
      "outputs": [
        {
          "output_type": "execute_result",
          "data": {
            "text/plain": [
              "0.6111111111111112"
            ]
          },
          "metadata": {
            "tags": []
          },
          "execution_count": 70
        }
      ]
    },
    {
      "cell_type": "code",
      "metadata": {
        "colab": {
          "base_uri": "https://localhost:8080/"
        },
        "id": "nVL7EN4b9z-J",
        "outputId": "111729ac-15ba-4177-96c2-454e5cf40516"
      },
      "source": [
        "for idx, item in enumerate(test_data):\n",
        "  print(test_data[idx], 'predicted:', predicted[idx], 'actual:', test_target[idx])"
      ],
      "execution_count": null,
      "outputs": [
        {
          "output_type": "stream",
          "text": [
            "You must provide your legal name, pseudonyms are not allowed. predicted: 1 actual: 1\n",
            "Mozilla does not receive or store your payment details. predicted: 0 actual: 0\n",
            "Choosing whether we share your personal information with other companies so they can send you offers and promotions about their products and services predicted: 1 actual: 0\n",
            "We collect purchase history. predicted: 1 actual: 1\n",
            "We use Pixels, web beacons, clear GIFs etc in our emails to let us know when they have been opened or forwarded, so we can gauge the effectiveness of our communications. predicted: 0 actual: 1\n",
            "We will clearly and transparently disclose our data policies and practices to our users predicted: 1 actual: 0\n",
            "You can edit or delete your account at any time. predicted: 0 actual: 0\n",
            "We may use cookies to show you relevant advertising both on and off the LinkedIn site. We may also use a cookie to learn whether someone who saw an ad later visited and took an action (e.g. downloaded a white paper or made a purchase) on the advertiser’s site. predicted: 1 actual: 1\n",
            "Mozilla has written agreements in place with these companies (third parties) contractually obligating them to protect your information predicted: 1 actual: 0\n",
            "When you’re not signed in to a Google Account, we store the information we collect with unique identifiers tied to the browser, application, or device you’re using. predicted: 0 actual: 1\n",
            "If you post Member Content to our Services, you hereby grant us a perpetual (i.e. lasting forever), worldwide, irrevocable, non-exclusive, royalty-free and fully sublicensable (i.e. we can grant this right to others) license to use, reproduce, display, perform, adapt, modify, create derivative works from, distribute, have distributed and promote such Member Content in any form. predicted: 1 actual: 1\n",
            "You can choose not to receive these emails by clicking the unsubscribe link in any e-mail or via your Settings page at predicted: 0 actual: 0\n",
            "In the event that the company is involved in a merger, acquisition, bankruptcy, change of control, or any form of sale of some or all of our assets, your personal information may be transferred or disclosed in connection with such a business transaction. predicted: 0 actual: 1\n",
            "Firefox always asks before determining and sharing your location with a requesting website predicted: 0 actual: 0\n",
            "We don't collect the precise geolocation of you or your device. predicted: 0 actual: 0\n",
            "We don’t share information that personally identifies you with advertisers, such as your name or email unless you ask us to predicted: 1 actual: 0\n",
            "To use, copy, modify, adapt, prepare derivative works of, distribute, store, perform, and display Your Content and any name, username, voice, or likeness provided in connection with Your Content in all media formats and channels now known or later developed anywhere in the world. predicted: 1 actual: 1\n",
            "We may also receive information about you from third parties, such as other users, partners (including ad partners), or our affiliated companies. predicted: 1 actual: 1\n"
          ],
          "name": "stdout"
        }
      ]
    },
    {
      "cell_type": "code",
      "metadata": {
        "colab": {
          "base_uri": "https://localhost:8080/"
        },
        "id": "cdDRXgKW2l39",
        "outputId": "7adf7a30-104f-45c1-a7ea-df72e929d272"
      },
      "source": [
        "from sklearn.linear_model import SGDClassifier\n",
        "text_clf_svm = Pipeline([('vect', CountVectorizer()),\n",
        "                      ('tfidf', TfidfTransformer()),\n",
        "                      ('clf-svm', SGDClassifier(loss='hinge', penalty='l2',\n",
        "                                        alpha=1e-3, random_state=42))\n",
        "])\n",
        "text_clf_svm = text_clf_svm.fit(training_data, training_target)\n",
        "predicted_svm = text_clf_svm.predict(test_data)\n",
        "np.mean(predicted_svm == test_target)"
      ],
      "execution_count": null,
      "outputs": [
        {
          "output_type": "execute_result",
          "data": {
            "text/plain": [
              "0.6666666666666666"
            ]
          },
          "metadata": {
            "tags": []
          },
          "execution_count": 80
        }
      ]
    },
    {
      "cell_type": "code",
      "metadata": {
        "colab": {
          "base_uri": "https://localhost:8080/"
        },
        "id": "LeIQRKAd2tK5",
        "outputId": "3a4c1261-1b4f-4af9-bea3-da98b96cd17c"
      },
      "source": [
        "from sklearn.model_selection import GridSearchCV\n",
        "parameters = {'vect__ngram_range': [(1, 1), (1, 2)],\n",
        "               'tfidf__use_idf': (True, False),\n",
        "               'clf__alpha': (1e-2, 1e-3),\n",
        " }\n",
        "gs_clf = GridSearchCV(text_clf, parameters, n_jobs=-1)\n",
        "gs_clf = gs_clf.fit(training_data, training_target)\n",
        "gs_clf.best_score_\n",
        "gs_clf.best_params_"
      ],
      "execution_count": null,
      "outputs": [
        {
          "output_type": "execute_result",
          "data": {
            "text/plain": [
              "{'clf__alpha': 0.01, 'tfidf__use_idf': True, 'vect__ngram_range': (1, 2)}"
            ]
          },
          "metadata": {
            "tags": []
          },
          "execution_count": 81
        }
      ]
    },
    {
      "cell_type": "code",
      "metadata": {
        "colab": {
          "base_uri": "https://localhost:8080/"
        },
        "id": "y0tFMArLA0Ap",
        "outputId": "6d52543e-fade-45aa-fbd1-1fff6af85df3"
      },
      "source": [
        "predicted_gs_clf = gs_clf.predict(test_data)\n",
        "np.mean(predicted_gs_clf == test_target)"
      ],
      "execution_count": null,
      "outputs": [
        {
          "output_type": "execute_result",
          "data": {
            "text/plain": [
              "0.7222222222222222"
            ]
          },
          "metadata": {
            "tags": []
          },
          "execution_count": 84
        }
      ]
    },
    {
      "cell_type": "code",
      "metadata": {
        "colab": {
          "base_uri": "https://localhost:8080/"
        },
        "id": "qovCYBDZ3Fu8",
        "outputId": "55f5ee92-f185-4abf-bd77-cd66b24740ea"
      },
      "source": [
        "parameters_svm = {'vect__ngram_range': [(1, 1), (1, 2)],\n",
        "               'tfidf__use_idf': (True, False),\n",
        "               'clf-svm__alpha': (1e-2, 1e-3),\n",
        " }\n",
        "gs_clf_svm = GridSearchCV(text_clf_svm, parameters_svm, n_jobs=-1)\n",
        "gs_clf_svm = gs_clf_svm.fit(training_data, training_target)\n",
        "gs_clf_svm.best_score_\n",
        "gs_clf_svm.best_params_"
      ],
      "execution_count": null,
      "outputs": [
        {
          "output_type": "execute_result",
          "data": {
            "text/plain": [
              "{'clf-svm__alpha': 0.001, 'tfidf__use_idf': True, 'vect__ngram_range': (1, 2)}"
            ]
          },
          "metadata": {
            "tags": []
          },
          "execution_count": 88
        }
      ]
    },
    {
      "cell_type": "code",
      "metadata": {
        "id": "je4Yw8RD3owh",
        "colab": {
          "base_uri": "https://localhost:8080/"
        },
        "outputId": "b0ce0583-a79d-42b0-9423-e37bd558380c"
      },
      "source": [
        "predicted_gs_clf_svm = gs_clf_svm.predict(test_data)\n",
        "np.mean(predicted_gs_clf_svm == test_target)"
      ],
      "execution_count": null,
      "outputs": [
        {
          "output_type": "execute_result",
          "data": {
            "text/plain": [
              "0.6666666666666666"
            ]
          },
          "metadata": {
            "tags": []
          },
          "execution_count": 89
        }
      ]
    }
  ]
}